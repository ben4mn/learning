{
  "metadata": {
    "kernelspec": {
      "name": "python",
      "display_name": "Python (Pyodide)",
      "language": "python"
    },
    "language_info": {
      "codemirror_mode": {
        "name": "python",
        "version": 3
      },
      "file_extension": ".py",
      "mimetype": "text/x-python",
      "name": "python",
      "nbconvert_exporter": "python",
      "pygments_lexer": "ipython3",
      "version": "3.8"
    }
  },
  "nbformat_minor": 4,
  "nbformat": 4,
  "cells": [
    {
      "cell_type": "markdown",
      "source": "## Lesson 1: Basic Syntax and Hello World ##",
      "metadata": {}
    },
    {
      "cell_type": "markdown",
      "source": "#### Objective: familiarize yourself with the fundamental syntax of python and the print function ####",
      "metadata": {}
    },
    {
      "cell_type": "markdown",
      "source": "Python is: \n\n    1. Simple\n    2. Readable\n    3. an Interperted Language\n    4. Output \"prints\" to the console (in a notebook its below the cell) ",
      "metadata": {}
    },
    {
      "cell_type": "code",
      "source": "print(\"hello, world\")",
      "metadata": {
        "trusted": true
      },
      "outputs": [
        {
          "name": "stdout",
          "text": "hello, world\n",
          "output_type": "stream"
        }
      ],
      "execution_count": 1
    },
    {
      "cell_type": "markdown",
      "source": "Exercise 1 - modify the above code to print your name",
      "metadata": {}
    },
    {
      "cell_type": "markdown",
      "source": "We all know the importance of comments. Write your own program below that prints out a statement and includes comments. To add comments in python use a \"#\" before the line ",
      "metadata": {}
    },
    {
      "cell_type": "code",
      "source": "#Comment and write code below",
      "metadata": {
        "trusted": true
      },
      "outputs": [],
      "execution_count": 2
    },
    {
      "cell_type": "markdown",
      "source": "Next we are going to talk about variables\n\nVariables are borken into simple categories. \n\n1. String\n2. Integer\n3. Float\n4. Boolean\n\nIn python it is VERY simple to set variables. In other program languages the variables must be \"Declared\" and set to a specific type and then you can add a value. In python the type is inferred based on the value and you can declare and set your variable in the same statement ",
      "metadata": {}
    },
    {
      "cell_type": "code",
      "source": "",
      "metadata": {
        "trusted": true
      },
      "outputs": [],
      "execution_count": null
    }
  ]
}