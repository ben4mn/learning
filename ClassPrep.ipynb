{
  "cells": [
    {
      "cell_type": "markdown",
      "metadata": {},
      "source": [
        "## Lesson 1: Basic Syntax and Hello World ##"
      ]
    },
    {
      "cell_type": "markdown",
      "metadata": {},
      "source": [
        "#### Objective: familiarize yourself with the fundamental syntax of python and the print function ####"
      ]
    },
    {
      "cell_type": "markdown",
      "metadata": {},
      "source": [
        "Python is: \n",
        "\n",
        "    1. Simple\n",
        "    2. Readable\n",
        "    3. an Interperted Language\n",
        "    4. Output \"prints\" to the console (in a notebook its below the cell) "
      ]
    },
    {
      "cell_type": "code",
      "execution_count": 10,
      "metadata": {
        "trusted": true
      },
      "outputs": [
        {
          "name": "stdout",
          "output_type": "stream",
          "text": [
            "hello, world\n"
          ]
        }
      ],
      "source": [
        "print(\"hello, world\")"
      ]
    },
    {
      "cell_type": "markdown",
      "metadata": {},
      "source": [
        "Exercise 1 - modify the above code to print your name"
      ]
    },
    {
      "cell_type": "markdown",
      "metadata": {},
      "source": [
        "We all know the importance of comments. Write your own program below that prints out a statement and includes comments. To add comments in python use a \"#\" before the line "
      ]
    },
    {
      "cell_type": "code",
      "execution_count": 11,
      "metadata": {
        "trusted": true
      },
      "outputs": [],
      "source": [
        "#Comment and write code below\n",
        "#this is Ben testing push comments"
      ]
    },
    {
      "cell_type": "markdown",
      "metadata": {},
      "source": [
        "Next we are going to talk about variables\n",
        "\n",
        "Variables are borken into simple categories. \n",
        "\n",
        "1. String\n",
        "2. Integer\n",
        "3. Float\n",
        "4. Boolean\n",
        "\n",
        "In python it is VERY simple to set variables. In other program languages the variables must be \"Declared\" and set to a specific type and then you can add a value. In python the type is inferred based on the value and you can declare and set your variable in the same statement "
      ]
    },
    {
      "cell_type": "code",
      "execution_count": 12,
      "metadata": {},
      "outputs": [
        {
          "name": "stdout",
          "output_type": "stream",
          "text": [
            "Agent name is benjamin Agent Login is: 1550\n"
          ]
        }
      ],
      "source": [
        "#this example shows both a number (int) and word (string) being set as variables\n",
        "\n",
        "agentName = \"benjamin\"\n",
        "agentLogin = 1550\n",
        "\n",
        "print (\"Agent name is \" + agentName + \" Agent Login is: \" + str(agentLogin))\n",
        "\n",
        "#the str() method takes an INT and converts it to a STRING "
      ]
    },
    {
      "cell_type": "markdown",
      "metadata": {},
      "source": [
        "There are multiple other ways for one to print things and it might be easier to put print lines in unique statements "
      ]
    },
    {
      "cell_type": "code",
      "execution_count": 13,
      "metadata": {},
      "outputs": [
        {
          "name": "stdout",
          "output_type": "stream",
          "text": [
            "line 1\n",
            "line 2\n"
          ]
        }
      ],
      "source": [
        "print(\"line 1\")\n",
        "print(\"line 2\")"
      ]
    },
    {
      "cell_type": "markdown",
      "metadata": {},
      "source": [
        "Pythons simple markup language allows for easy manipulation of even complex math problems "
      ]
    },
    {
      "cell_type": "code",
      "execution_count": 14,
      "metadata": {},
      "outputs": [],
      "source": [
        "a = 5\n",
        "b = 3\n",
        "\n",
        "sum_ab = a + b\n",
        "product_ab = a * b \n",
        "\n",
        "##what is the diff and quotient? \n",
        "## How would you print it? If you wanted to print out \"SUM: xx\""
      ]
    },
    {
      "cell_type": "markdown",
      "metadata": {},
      "source": [
        "Lets talk input... here's how you collect input from user. "
      ]
    },
    {
      "cell_type": "code",
      "execution_count": 22,
      "metadata": {},
      "outputs": [
        {
          "name": "stdout",
          "output_type": "stream",
          "text": [
            "Adam is in a python class\n"
          ]
        }
      ],
      "source": [
        "variableName = str(input(\"What is your name: \"))\n",
        "print(variableName + \" is in a python class\")"
      ]
    },
    {
      "cell_type": "markdown",
      "metadata": {},
      "source": [
        "Now lets work on if/else statements  \n",
        "Here is the default syntax  \n",
        "\n"
      ]
    },
    {
      "cell_type": "code",
      "execution_count": 9,
      "metadata": {},
      "outputs": [
        {
          "name": "stdout",
          "output_type": "stream",
          "text": [
            "false\n"
          ]
        }
      ],
      "source": [
        "if 5 > 15:  \n",
        "    print(\"true\")  \n",
        "else:  \n",
        "    print(\"false\")"
      ]
    },
    {
      "cell_type": "markdown",
      "metadata": {},
      "source": [
        "Another example with If and ELIF and ELSE \n"
      ]
    },
    {
      "cell_type": "code",
      "execution_count": 18,
      "metadata": {},
      "outputs": [
        {
          "name": "stdout",
          "output_type": "stream",
          "text": [
            "number is gt 15\n"
          ]
        }
      ],
      "source": [
        "number = 16\n",
        "if number > 15:  \n",
        "    print(\"number is > 15\")  \n",
        "elif number < 15:  \n",
        "    print(\"number is < 15\")\n",
        "else:\n",
        "    print(\"number = 15\")"
      ]
    },
    {
      "cell_type": "markdown",
      "metadata": {},
      "source": [
        "Link to full python operators https://www.w3schools.com/python/python_operators.asp  \n",
        "\n",
        "In-Class Project: write a python program that prompts the user to input a number and then checks if the number is positive or negative or zero? \n",
        "\n"
      ]
    },
    {
      "cell_type": "code",
      "execution_count": 19,
      "metadata": {},
      "outputs": [],
      "source": [
        "#This is the space to complete the exercise above... \n",
        "#\n",
        "#I will help during class if we get stuck \n"
      ]
    },
    {
      "cell_type": "markdown",
      "metadata": {},
      "source": [
        "I am adding markdown to show how to update github"
      ]
    },
    {
      "cell_type": "code",
      "execution_count": 33,
      "metadata": {},
      "outputs": [
        {
          "name": "stdout",
          "output_type": "stream",
          "text": [
            "the number is zero\n",
            "0.0\n"
          ]
        }
      ],
      "source": [
        "number = float(input(\"Enter a number: \"))\n",
        "if number > 0:\n",
        "    print(\"The number is positive.\")\n",
        "elif number < 0:\n",
        "    print(\"The number is negative.\")\n",
        "else: \n",
        "    print(\"the number is zero\")\n",
        "\n",
        "print(number)"
      ]
    }
  ],
  "metadata": {
    "kernelspec": {
      "display_name": "Python 3",
      "language": "python",
      "name": "python3"
    },
    "language_info": {
      "codemirror_mode": {
        "name": "ipython",
        "version": 3
      },
      "file_extension": ".py",
      "mimetype": "text/x-python",
      "name": "python",
      "nbconvert_exporter": "python",
      "pygments_lexer": "ipython3",
      "version": "3.9.6"
    }
  },
  "nbformat": 4,
  "nbformat_minor": 4
}
